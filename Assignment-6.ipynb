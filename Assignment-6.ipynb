{
 "cells": [
  {
   "cell_type": "code",
   "execution_count": null,
   "metadata": {},
   "outputs": [],
   "source": [
    "Q.1. What are keywords in python? Using the keyword library, print all the python keywords."
   ]
  },
  {
   "cell_type": "code",
   "execution_count": null,
   "metadata": {},
   "outputs": [],
   "source": [
    "keywords are reserved words that have specific meanings and purposes in the programming language.\n",
    "These words cannot be used as identifiers(variable names, function names, etc.) because they are \n",
    "predifined for specific tasks. They are an integral part of the language's syntax and structure.\n",
    "\n",
    "we can use the 'keyword' library in python to get a list of all keywords. "
   ]
  },
  {
   "cell_type": "code",
   "execution_count": 1,
   "metadata": {},
   "outputs": [
    {
     "name": "stdout",
     "output_type": "stream",
     "text": [
      "False\n",
      "None\n",
      "True\n",
      "and\n",
      "as\n",
      "assert\n",
      "async\n",
      "await\n",
      "break\n",
      "class\n",
      "continue\n",
      "def\n",
      "del\n",
      "elif\n",
      "else\n",
      "except\n",
      "finally\n",
      "for\n",
      "from\n",
      "global\n",
      "if\n",
      "import\n",
      "in\n",
      "is\n",
      "lambda\n",
      "nonlocal\n",
      "not\n",
      "or\n",
      "pass\n",
      "raise\n",
      "return\n",
      "try\n",
      "while\n",
      "with\n",
      "yield\n"
     ]
    }
   ],
   "source": [
    "import keyword\n",
    "keywords = keyword.kwlist\n",
    "for keyword in keywords:\n",
    "    print(keyword)"
   ]
  },
  {
   "cell_type": "code",
   "execution_count": null,
   "metadata": {},
   "outputs": [],
   "source": [
    "Q.2. What are the rules to create variables in python?\n"
   ]
  },
  {
   "cell_type": "code",
   "execution_count": null,
   "metadata": {},
   "outputs": [],
   "source": [
    "In python, variables are used to store and manipulate data. the rules followed by:\n",
    "    \n",
    "1.A variable name can consist of letters(both uppercase and lowercase), digits, and \n",
    "    underscores. It must start with a letter(a-z, A-Z) or an underscore(_). It cannot start with a\n",
    "    digit (0-9).\n",
    "2. Python is case-sensitive, which means 'myVariable', 'MyVariable' and 'myvariable' are treated\n",
    "    as different variables.\n",
    "3.python keywords(Reserved words) as variable names. These are words that have predifined meanings in\n",
    " the language, such as 'if', 'else', 'while', 'for', 'def', etc.\n",
    "4. Variable names cannot contain spaces. Use underscore(_) or camelcase notation to seperate words within\n",
    "a variable name.\n",
    "5. Digits and Underscore: Digits and underscores can be used in variables names, but a variable name \n",
    "    cannot start with a digit.\n",
    "ex:\n",
    "    my_ariable = 42\n",
    "    user_name = \"Alice\"\n",
    "    _total = 100\n",
    "    myVar = \"Hello\"    "
   ]
  },
  {
   "cell_type": "code",
   "execution_count": null,
   "metadata": {},
   "outputs": [],
   "source": [
    "Q.3. What are the standards and conventions followed for the nomenclature of variables in\n",
    "python to improve code readability and maintainability?"
   ]
  },
  {
   "cell_type": "code",
   "execution_count": null,
   "metadata": {},
   "outputs": [],
   "source": [
    "1. Use descriptive Names: Choose variable names that are meaningful and describe the purpose of the \n",
    "    variable. This helps anyone reading the code understand the role of the variable.\n",
    "2. Snake Case: Variables should be named using lowercase letters and words should be separated by \n",
    "    underscores. For example: user_name, total_amount, item_list.\n",
    "3. Avoid Single-character Names(except for counters and iterartors): While single-letter variable names \n",
    "    like i, j, and x might be suitable for simple loop counters or iterators, they should generally be \n",
    "    avoided in favor of more descriptive names. For example, use index instead of i if the variable \n",
    "    represents an index.4.\n",
    "4. Avoid Reserved Words: Do not use python's reserved keywords (like 'if',\n",
    "    'else', 'while', etc.) as variable names.\n",
    "5. Consistency: Be consistent with your naming conventions throughout your codebase. If you're using a \n",
    "    specific naming style for variables, stick to it consistently.\n",
    "6. class names: Class names should follow the Capwords convention, where each\n",
    "    word starts with a capital letter and there are no underscores. For example: Person, CarModel.\n",
    "        "
   ]
  },
  {
   "cell_type": "code",
   "execution_count": null,
   "metadata": {},
   "outputs": [],
   "source": [
    "Q.4. What will happen if a keyword is used as a variable name?"
   ]
  },
  {
   "cell_type": "code",
   "execution_count": null,
   "metadata": {},
   "outputs": [],
   "source": [
    "If we use a keyword as a variable name in Python, we will encounter a syntax error. Keywords are reserved \n",
    "words that have special meanings in the Python language and are used to define the structure and behavior\n",
    "of the code. They cannot be used as identifiers (such as variable names, function names, class names, etc.) \n",
    "because they already have a predefined significance in the language.\n",
    "For example, if we try to use a keyword like if or while as a variable name, we will receive a syntax error similar to the following:"
   ]
  },
  {
   "cell_type": "code",
   "execution_count": null,
   "metadata": {},
   "outputs": [],
   "source": [
    "Q.5. For what purpose def keyword is used?"
   ]
  },
  {
   "cell_type": "code",
   "execution_count": null,
   "metadata": {},
   "outputs": [],
   "source": [
    "The 'def' keyword is used to define a function. Functions are blocks of reusable code that can be called \n",
    "with specific arguments to perform a particular task, They are essential for organising code,\n",
    "promoting reusability, and improving readability.\n",
    "\n",
    "Here's the basic syntax for defining a function using the 'def' keyword:\n",
    "\n",
    "def function_name(parameter):\n",
    "    #function body\n",
    "    return result\n",
    "\n"
   ]
  },
  {
   "cell_type": "code",
   "execution_count": null,
   "metadata": {},
   "outputs": [],
   "source": [
    "Q.6. What is the operation of this special character ‘\\’?"
   ]
  },
  {
   "cell_type": "code",
   "execution_count": null,
   "metadata": {},
   "outputs": [],
   "source": [
    "The special character \"'\\'\" (backslash) is used as an escape character.\n",
    "It's often used to represent characters that are difficult to type directly, such as newline, tab, or \n",
    "quotes Here are some common uses of the backslash in Python:\n",
    "\n",
    "Escape Sequences: Backslashes are used to represent escape sequences, which have special meanings when \n",
    "    enclosed in strings. For example:\n",
    "'\\n': Represents a newline character.\n",
    "'\\t': Represents a tab character.\n",
    "'\\\\\"': Represents a double quotation mark within a string.\n",
    "'\\\\': Represents a literal backslash.\n"
   ]
  },
  {
   "cell_type": "code",
   "execution_count": null,
   "metadata": {},
   "outputs": [],
   "source": [
    "Q.7. Give an example of the following conditions:\n",
    "(i) Homogeneous list\n",
    "(ii) Heterogeneous set\n",
    "(iii) Homogeneous tuple"
   ]
  },
  {
   "cell_type": "code",
   "execution_count": null,
   "metadata": {},
   "outputs": [],
   "source": [
    "1.Homogeneous list:\n",
    "    A homogeneous list is a list where all the elements are of the same data type. For example:\n",
    "    num = [1,2,3,4,5]\n",
    "2.Heterogeneous set:\n",
    "    A heterogeneous set is a set where the elements can be of different data types.\n",
    "    Since sets in python are not indexed and their elements are unordered\n",
    "    mixed_set = {1,2.6,\"hello\",(2,3,4)}\n",
    "3. Homogeneous tuple:\n",
    "    A homogeneous tuple is a tuple where all the elements are of the same data type.\n",
    "    ex: \n",
    "    coordinates = (3,4,5)"
   ]
  },
  {
   "cell_type": "code",
   "execution_count": null,
   "metadata": {},
   "outputs": [],
   "source": [
    "Q.8. Explain the mutable and immutable data types with proper explanation & examples.\n"
   ]
  },
  {
   "cell_type": "code",
   "execution_count": 3,
   "metadata": {},
   "outputs": [
    {
     "name": "stdout",
     "output_type": "stream",
     "text": [
      "[10, 2, 3]\n"
     ]
    }
   ],
   "source": [
    "Mutable and immutable are terms used to describe the ability of an object to be modified after its \n",
    "creation. In python understanding whether a data type is mutable or immutable is crucial as it affects \n",
    "how variables and data structures behave when you try to modify their values.\n",
    "\n",
    "Mutable data types:\n",
    "A mutable data type is one whose value can be changed after it is created.\n",
    "This means we can modify individual elements of the data type without creating a completely new object.\n",
    "Examples:\n",
    "1.Lists:\n",
    "my_list = [1,2,3]\n",
    "my_list[0] = 10 \n",
    "print(my_list)"
   ]
  },
  {
   "cell_type": "code",
   "execution_count": 5,
   "metadata": {},
   "outputs": [
    {
     "name": "stdout",
     "output_type": "stream",
     "text": [
      "{'a': 10, 'b': 2}\n"
     ]
    }
   ],
   "source": [
    "# 2. Dictionaries:\n",
    "my_dict = {'a':1, 'b':2}\n",
    "my_dict['a'] = 10 \n",
    "print(my_dict)"
   ]
  },
  {
   "cell_type": "code",
   "execution_count": 7,
   "metadata": {},
   "outputs": [
    {
     "name": "stdout",
     "output_type": "stream",
     "text": [
      "{1, 2, 3, 4}\n"
     ]
    }
   ],
   "source": [
    "# 3. Sets:\n",
    "my_set = {1,2,3}\n",
    "my_set.add(4)\n",
    "print(my_set) "
   ]
  },
  {
   "cell_type": "code",
   "execution_count": 9,
   "metadata": {},
   "outputs": [
    {
     "name": "stdout",
     "output_type": "stream",
     "text": [
      "7\n"
     ]
    }
   ],
   "source": [
    "Immutable data types:\n",
    "An immutable data types is one whose value cannot be changed once it is created.\n",
    "If we want to modify an immutable object, we need to create a new object with the modified\n",
    "value.\n",
    "1. Integers:\n",
    "x = 5\n",
    "y = x+2 # cteating a new object with the value 7\n",
    "print(y) "
   ]
  },
  {
   "cell_type": "code",
   "execution_count": 10,
   "metadata": {},
   "outputs": [],
   "source": [
    "2. Strings:\n",
    "name = \"Alice\"\n",
    "greeting = \"Hello, \" + name"
   ]
  },
  {
   "cell_type": "code",
   "execution_count": 12,
   "metadata": {},
   "outputs": [
    {
     "name": "stdout",
     "output_type": "stream",
     "text": [
      "(1, 2, 3, 4)\n"
     ]
    }
   ],
   "source": [
    "# 3. Tuples:\n",
    "my_tuple = (1,2,3)\n",
    "new_tuple = my_tuple + (4,) #creating a new tuple with additional element\n",
    "print(new_tuple) "
   ]
  },
  {
   "cell_type": "code",
   "execution_count": null,
   "metadata": {},
   "outputs": [],
   "source": [
    "\n",
    "Q.9. Write a code to create the given structure using only for loop.\n",
    "*\n",
    "***\n",
    "*****\n",
    "*******\n",
    "*********\n"
   ]
  },
  {
   "cell_type": "code",
   "execution_count": 18,
   "metadata": {},
   "outputs": [
    {
     "name": "stdout",
     "output_type": "stream",
     "text": [
      "*\n",
      "**\n",
      "***\n",
      "****\n",
      "*****\n",
      "******\n",
      "*******\n"
     ]
    }
   ],
   "source": [
    "for i in range(1,8):\n",
    "    for j in range(i):\n",
    "        print(\"*\", end=\"\")\n",
    "    print()"
   ]
  },
  {
   "cell_type": "code",
   "execution_count": null,
   "metadata": {},
   "outputs": [],
   "source": [
    "Q.10. Write a code to create the given structure using while loop.\n",
    "|||||||||\n",
    "|||||||\n",
    "|||||\n",
    "|||\n",
    "|"
   ]
  },
  {
   "cell_type": "code",
   "execution_count": 3,
   "metadata": {},
   "outputs": [
    {
     "name": "stdout",
     "output_type": "stream",
     "text": [
      "|||||||\n",
      "||||||\n",
      "|||||\n",
      "||||\n",
      "|||\n",
      "||\n",
      "|\n"
     ]
    }
   ],
   "source": [
    "for i in range(7,0,-1):\n",
    "    for j in range(i):\n",
    "        print(\"|\",end= \"\")\n",
    "    print()"
   ]
  },
  {
   "cell_type": "code",
   "execution_count": 8,
   "metadata": {},
   "outputs": [
    {
     "name": "stdout",
     "output_type": "stream",
     "text": [
      "|||||\n",
      "||||\n",
      "|||\n",
      "||\n",
      "|\n"
     ]
    }
   ],
   "source": [
    "# using while loop \n",
    "row = 5 \n",
    "while row >=1:\n",
    "    col = 1\n",
    "    while col <= row:\n",
    "        print(\"|\", end=\"\")\n",
    "        col +=1\n",
    "    print()\n",
    "    row-=1"
   ]
  }
 ],
 "metadata": {
  "kernelspec": {
   "display_name": "Python 3",
   "language": "python",
   "name": "python3"
  },
  "language_info": {
   "codemirror_mode": {
    "name": "ipython",
    "version": 3
   },
   "file_extension": ".py",
   "mimetype": "text/x-python",
   "name": "python",
   "nbconvert_exporter": "python",
   "pygments_lexer": "ipython3",
   "version": "3.8.5"
  }
 },
 "nbformat": 4,
 "nbformat_minor": 4
}
